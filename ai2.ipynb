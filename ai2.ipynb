{
 "cells": [
  {
   "cell_type": "code",
   "execution_count": 3,
   "metadata": {},
   "outputs": [],
   "source": [
    "%load_ext autoreload\n",
    "%autoreload 2\n",
    "%matplotlib inline"
   ]
  },
  {
   "cell_type": "code",
   "execution_count": 4,
   "metadata": {},
   "outputs": [],
   "source": [
    "import pandas as pd\n",
    "import numpy as np\n",
    "import matplotlib.pyplot as plt"
   ]
  },
  {
   "cell_type": "code",
   "execution_count": 5,
   "metadata": {},
   "outputs": [
    {
     "name": "stderr",
     "output_type": "stream",
     "text": [
      "/usr/local/lib/python3.5/site-packages/h5py/__init__.py:36: FutureWarning: Conversion of the second argument of issubdtype from `float` to `np.floating` is deprecated. In future, it will be treated as `np.float64 == np.dtype(float).type`.\n",
      "  from ._conv import register_converters as _register_converters\n",
      "Using TensorFlow backend.\n"
     ]
    }
   ],
   "source": [
    "import os\n",
    "\n",
    "from keras.preprocessing.image import load_img, img_to_array, array_to_img\n",
    "\n",
    "from keras.preprocessing.image import ImageDataGenerator\n",
    "\n",
    "from keras.models import Sequential\n",
    "from keras.layers import Dense\n",
    "from keras.layers import Conv2D\n",
    "from keras.layers import MaxPooling2D\n",
    "from keras.layers import Flatten\n",
    "from keras.layers import Dropout\n",
    "\n",
    "from keras.models import load_model\n",
    "\n",
    "from keras.optimizers import RMSprop\n",
    "\n",
    "from keras.callbacks import EarlyStopping"
   ]
  },
  {
   "cell_type": "code",
   "execution_count": 6,
   "metadata": {},
   "outputs": [],
   "source": [
    "from numpy.random import seed\n",
    "seed(1)\n",
    "from tensorflow import set_random_seed\n",
    "set_random_seed(2)"
   ]
  },
  {
   "cell_type": "code",
   "execution_count": 7,
   "metadata": {},
   "outputs": [],
   "source": [
    "base_dir = \"datasets/dataset_signs\"\n",
    "train_dir = os.path.join(base_dir, \"train\")\n",
    "val_dir = os.path.join(base_dir, \"val\")\n",
    "test_dir = os.path.join(base_dir, \"test\")"
   ]
  },
  {
   "cell_type": "code",
   "execution_count": 8,
   "metadata": {},
   "outputs": [
    {
     "name": "stdout",
     "output_type": "stream",
     "text": [
      "Found 768 images belonging to 43 classes.\n",
      "Found 261 images belonging to 43 classes.\n",
      "Found 278 images belonging to 43 classes.\n"
     ]
    }
   ],
   "source": [
    "IMAGE_SIZE = (150, 150)\n",
    "RESCALE = 1./255\n",
    "\n",
    "train_data_generator = ImageDataGenerator(rescale=RESCALE)\n",
    "train_generator = train_data_generator.flow_from_directory(\n",
    "    train_dir, target_size=IMAGE_SIZE, batch_size=20, class_mode=\"categorical\")\n",
    "\n",
    "val_data_generator = ImageDataGenerator(rescale=RESCALE)\n",
    "val_generator = val_data_generator.flow_from_directory(\n",
    "    val_dir, target_size=IMAGE_SIZE, batch_size=20, class_mode=\"categorical\")\n",
    "\n",
    "test_data_generator = ImageDataGenerator(rescale=RESCALE)\n",
    "test_generator = test_data_generator.flow_from_directory(\n",
    "    test_dir, target_size=IMAGE_SIZE, batch_size=20, class_mode=\"categorical\")"
   ]
  },
  {
   "cell_type": "code",
   "execution_count": 9,
   "metadata": {},
   "outputs": [],
   "source": [
    "def build_convnet():\n",
    "    network = Sequential()\n",
    "    network.add(Conv2D(32, (3, 3), activation=\"relu\", input_shape=(150, 150, 3)))\n",
    "    network.add(MaxPooling2D((2, 2)))\n",
    "    network.add(Conv2D(64, (3, 3), activation=\"relu\"))\n",
    "    network.add(MaxPooling2D((2, 2)))\n",
    "    network.add(Conv2D(128, (3, 3), activation=\"relu\"))\n",
    "    network.add(MaxPooling2D((2, 2)))\n",
    "    network.add(Conv2D(128, (3, 3), activation=\"relu\"))\n",
    "    network.add(MaxPooling2D((2, 2)))\n",
    "    network.add(Flatten())\n",
    "    network.add(Dense(512, activation=\"relu\"))\n",
    "    network.add(Dense(43, activation=\"softmax\"))\n",
    "    network.compile(optimizer=RMSprop(lr=0.0003), loss=\"categorical_crossentropy\", metrics=[\"accuracy\"])\n",
    "    return network"
   ]
  },
  {
   "cell_type": "code",
   "execution_count": null,
   "metadata": {},
   "outputs": [],
   "source": []
  },
  {
   "cell_type": "code",
   "execution_count": 10,
   "metadata": {},
   "outputs": [
    {
     "name": "stdout",
     "output_type": "stream",
     "text": [
      "_________________________________________________________________\n",
      "Layer (type)                 Output Shape              Param #   \n",
      "=================================================================\n",
      "conv2d_1 (Conv2D)            (None, 148, 148, 32)      896       \n",
      "_________________________________________________________________\n",
      "max_pooling2d_1 (MaxPooling2 (None, 74, 74, 32)        0         \n",
      "_________________________________________________________________\n",
      "conv2d_2 (Conv2D)            (None, 72, 72, 64)        18496     \n",
      "_________________________________________________________________\n",
      "max_pooling2d_2 (MaxPooling2 (None, 36, 36, 64)        0         \n",
      "_________________________________________________________________\n",
      "conv2d_3 (Conv2D)            (None, 34, 34, 128)       73856     \n",
      "_________________________________________________________________\n",
      "max_pooling2d_3 (MaxPooling2 (None, 17, 17, 128)       0         \n",
      "_________________________________________________________________\n",
      "conv2d_4 (Conv2D)            (None, 15, 15, 128)       147584    \n",
      "_________________________________________________________________\n",
      "max_pooling2d_4 (MaxPooling2 (None, 7, 7, 128)         0         \n",
      "_________________________________________________________________\n",
      "flatten_1 (Flatten)          (None, 6272)              0         \n",
      "_________________________________________________________________\n",
      "dense_1 (Dense)              (None, 512)               3211776   \n",
      "_________________________________________________________________\n",
      "dense_2 (Dense)              (None, 43)                22059     \n",
      "=================================================================\n",
      "Total params: 3,474,667\n",
      "Trainable params: 3,474,667\n",
      "Non-trainable params: 0\n",
      "_________________________________________________________________\n"
     ]
    }
   ],
   "source": [
    "network = build_convnet()\n",
    "network.summary()"
   ]
  },
  {
   "cell_type": "code",
   "execution_count": 11,
   "metadata": {},
   "outputs": [
    {
     "data": {
      "text/plain": [
       "2"
      ]
     },
     "execution_count": 11,
     "metadata": {},
     "output_type": "execute_result"
    }
   ],
   "source": [
    "#network.fit_generator(train_generator, steps_per_epoch=100, epochs=30, verbose=0\n",
    "1 + 1"
   ]
  },
  {
   "cell_type": "code",
   "execution_count": 16,
   "metadata": {},
   "outputs": [
    {
     "name": "stdout",
     "output_type": "stream",
     "text": [
      "Epoch 1/30\n",
      "100/100 [==============================] - 68s 680ms/step - loss: 0.3448 - acc: 0.9008 - val_loss: 2.7261 - val_acc: 0.5408\n",
      "Epoch 2/30\n",
      "100/100 [==============================] - 68s 682ms/step - loss: 0.2051 - acc: 0.9523 - val_loss: 2.6311 - val_acc: 0.5419\n",
      "Epoch 3/30\n",
      "100/100 [==============================] - 69s 688ms/step - loss: 0.2051 - acc: 0.9520 - val_loss: 2.6458 - val_acc: 0.5885\n",
      "Epoch 4/30\n",
      "100/100 [==============================] - 74s 738ms/step - loss: 0.1083 - acc: 0.9748 - val_loss: 3.1541 - val_acc: 0.5790\n"
     ]
    }
   ],
   "source": [
    "# history = network.fit_generator(\n",
    "#     train_generator, steps_per_epoch=100, epochs=30,\n",
    "#     validation_steps=50,\n",
    "#     callbacks=[EarlyStopping(monitor=\"val_loss\", patience=2))\n",
    "\n",
    "history = network.fit_generator(train_generator, steps_per_epoch=100, epochs=30, validation_data=val_generator, validation_steps=50, \n",
    "                                callbacks=[EarlyStopping(monitor=\"val_loss\", patience=2)], \n",
    "                                verbose=1)\n",
    "\n",
    "# history = network.fit_generator(train_generator, steps_per_epoch=100, epochs=30, \n",
    "#                                 callbacks=[EarlyStopping(monitor=\"loss\", patience=1)], \n",
    "#                                 verbose=1)"
   ]
  },
  {
   "cell_type": "code",
   "execution_count": 17,
   "metadata": {},
   "outputs": [
    {
     "data": {
      "text/plain": [
       "{'acc': [0.9012219933773981,\n",
       "  0.9524291427994547,\n",
       "  0.9526476516500267,\n",
       "  0.9750509137048741],\n",
       " 'loss': [0.34224741197287917,\n",
       "  0.20553628934042054,\n",
       "  0.20575478072837755,\n",
       "  0.10563588888591152],\n",
       " 'val_acc': [0.5408271471490789,\n",
       "  0.5418875950644403,\n",
       "  0.5885471914631185,\n",
       "  0.5790031813361611],\n",
       " 'val_loss': [2.726095610252786,\n",
       "  2.631099438999896,\n",
       "  2.6458381251350485,\n",
       "  3.1541251398642185]}"
      ]
     },
     "execution_count": 17,
     "metadata": {},
     "output_type": "execute_result"
    }
   ],
   "source": [
    "history.history"
   ]
  },
  {
   "cell_type": "code",
   "execution_count": 37,
   "metadata": {},
   "outputs": [],
   "source": [
    "def build_network():\n",
    "    network = Sequential()\n",
    "    #network.add(Flatten())\n",
    "    network.add(Dense(512, activation=\"relu\", input_shape=(30 * 30,)))\n",
    "    network.add(Dense(10, activation=\"softmax\"))\n",
    "    network.compile(optimizer=RMSprop(lr=0.003), loss=\"sparse_categorical_crossentropy\", metrics=[\"accuracy\"])\n",
    "    return network"
   ]
  },
  {
   "cell_type": "code",
   "execution_count": 38,
   "metadata": {},
   "outputs": [],
   "source": [
    "network = build_network()\n"
   ]
  },
  {
   "cell_type": "code",
   "execution_count": null,
   "metadata": {},
   "outputs": [],
   "source": [
    "network.fit(mnist_x_train, mnist_y_train, epochs=5, batch_size=128)"
   ]
  },
  {
   "cell_type": "code",
   "execution_count": null,
   "metadata": {},
   "outputs": [],
   "source": [
    "def build_convnet():\n",
    "    network = Sequential()\n",
    "    network.add(Conv2D(32, (3, 3), activation=\"relu\", input_shape=(30, 30, 43)))\n",
    "    network.add(MaxPooling2D((2, 2)))\n",
    "    \n",
    "    network.add(Conv2D(64, (3, 3), activation=\"relu\"))\n",
    "    network.add(MaxPooling2D((2, 2)))\n",
    "    network.add(Flatten())\n",
    "    \n",
    "    #network.add(Conv2D(128, (3, 3), activation=\"relu\"))\n",
    "    #network.add(MaxPooling2D((2, 2)))\n",
    "    #network.add(Conv2D(128, (3, 3), activation=\"relu\"))\n",
    "    #network.add(MaxPooling2D((2, 2)))\n",
    "    \n",
    "    network.add(Dense(512, activation=\"relu\"))\n",
    "    network.add(Dense(43, activation=\"softmax\"))\n",
    "    network.compile(optimizer=RMSprop(lr=0.0003), loss=\"categorical_crossentropy\", metrics=[\"accuracy\"])\n",
    "    return network"
   ]
  }
 ],
 "metadata": {
  "kernelspec": {
   "display_name": "Python 3",
   "language": "python",
   "name": "python3"
  },
  "language_info": {
   "codemirror_mode": {
    "name": "ipython",
    "version": 3
   },
   "file_extension": ".py",
   "mimetype": "text/x-python",
   "name": "python",
   "nbconvert_exporter": "python",
   "pygments_lexer": "ipython3",
   "version": "3.5.2"
  }
 },
 "nbformat": 4,
 "nbformat_minor": 2
}
